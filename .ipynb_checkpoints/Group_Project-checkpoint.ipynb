{
 "cells": [
  {
   "cell_type": "code",
   "execution_count": 1,
   "id": "eb47f213",
   "metadata": {},
   "outputs": [],
   "source": [
    "# Import libraries\n",
    "import numpy as np\n",
    "import pandas as pd\n",
    "import matplotlib.pyplot as plt\n"
   ]
  },
  {
   "cell_type": "code",
   "execution_count": 74,
   "id": "8b20be18",
   "metadata": {},
   "outputs": [],
   "source": [
    "# Import banking data\n",
    "# Note: This data was extracted on 1999\n",
    "\n",
    "# Each record describes characteristics of a client\n",
    "client = pd.read_csv('./data/raw/data_berka/client.asc', sep=';')\n",
    "\n",
    "# Each record describes static characteristics of an account\n",
    "account = pd.read_csv('./data/raw/data_berka/account.asc', sep=';')\n",
    "\n",
    "# Each record describes a credit card issued to an account\n",
    "card = pd.read_csv('./data/raw/data_berka/card.asc', sep=';')\n",
    "\n",
    "# Each record describes demographic characteristics of a district\n",
    "district = pd.read_csv('./data/raw/data_berka/district.asc', sep=';')\n",
    "\n",
    "# Each record relates together a client with an account\n",
    "# i.e. this relation describes the rights of clients to operate accounts\n",
    "disp = pd.read_csv('./data/raw/data_berka/disp.asc', sep=';')\n",
    "\n",
    "# Each record describes characteristics of a payment order (debits only)\n",
    "order = pd.read_csv('./data/raw/data_berka/order.asc', sep=';')\n",
    "\n",
    "# Each record describes one transaction on an account\n",
    "trans = pd.read_csv('./data/raw/data_berka/trans.asc', sep=';', low_memory=False)\n",
    "\n",
    "# Each record describes a loan granted for a given account\n",
    "loan = pd.read_csv('./data/raw/data_berka/loan.asc', sep=';')"
   ]
  },
  {
   "cell_type": "code",
   "execution_count": 55,
   "id": "5c55dec1",
   "metadata": {},
   "outputs": [],
   "source": [
    "empty = {}\n",
    "def checkEmpty(df):\n",
    "    for column in df.columns[1:]:\n",
    "            empty[column] = df[column].astype(str).str.contains(r'^\\s*$', na=False)\n",
    "    return empty "
   ]
  },
  {
   "cell_type": "code",
   "execution_count": null,
   "id": "4d600a39",
   "metadata": {},
   "outputs": [],
   "source": [
    "def fillEmpty(df, empty):\n",
    "    for column in order.columns[1:]:\n",
    "        if order[column].dtype == object:\n",
    "            df.loc[emptyrows[column], column] = 'Other'\n",
    "    return df"
   ]
  },
  {
   "cell_type": "code",
   "execution_count": 14,
   "id": "c0ae018c",
   "metadata": {},
   "outputs": [
    {
     "name": "stdout",
     "output_type": "stream",
     "text": [
      "   client_id  birth_number  district_id\n",
      "0          1        706213           18\n",
      "1          2        450204            1\n",
      "2          3        406009            1\n",
      "3          4        561201            5\n",
      "4          5        605703            5\n",
      "<class 'pandas.core.frame.DataFrame'>\n",
      "RangeIndex: 5369 entries, 0 to 5368\n",
      "Data columns (total 3 columns):\n",
      " #   Column        Non-Null Count  Dtype\n",
      "---  ------        --------------  -----\n",
      " 0   client_id     5369 non-null   int64\n",
      " 1   birth_number  5369 non-null   int64\n",
      " 2   district_id   5369 non-null   int64\n",
      "dtypes: int64(3)\n",
      "memory usage: 126.0 KB\n",
      "None\n",
      "The number of missing columns are: 0\n"
     ]
    }
   ],
   "source": [
    "# Checking data\n",
    "print(client.head())\n",
    "# Checking structure\n",
    "print(client.info())\n",
    "# Checking missing columns\n",
    "print(\"The number of missing columns are: \" +  str(client.isna().sum().sum()))"
   ]
  },
  {
   "cell_type": "code",
   "execution_count": 15,
   "id": "2d75a283",
   "metadata": {},
   "outputs": [
    {
     "name": "stdout",
     "output_type": "stream",
     "text": [
      "   account_id  district_id         frequency    date\n",
      "0         576           55  POPLATEK MESICNE  930101\n",
      "1        3818           74  POPLATEK MESICNE  930101\n",
      "2         704           55  POPLATEK MESICNE  930101\n",
      "3        2378           16  POPLATEK MESICNE  930101\n",
      "4        2632           24  POPLATEK MESICNE  930102\n",
      "<class 'pandas.core.frame.DataFrame'>\n",
      "RangeIndex: 4500 entries, 0 to 4499\n",
      "Data columns (total 4 columns):\n",
      " #   Column       Non-Null Count  Dtype \n",
      "---  ------       --------------  ----- \n",
      " 0   account_id   4500 non-null   int64 \n",
      " 1   district_id  4500 non-null   int64 \n",
      " 2   frequency    4500 non-null   object\n",
      " 3   date         4500 non-null   int64 \n",
      "dtypes: int64(3), object(1)\n",
      "memory usage: 140.8+ KB\n",
      "None\n",
      "The number of missing columns are: 0\n"
     ]
    }
   ],
   "source": [
    "# Checking data\n",
    "print(account.head())\n",
    "# Checking structure\n",
    "print(account.info())\n",
    "# Checking missing columns\n",
    "print(\"The number of missing columns are: \" +  str(account.isna().sum().sum()))"
   ]
  },
  {
   "cell_type": "code",
   "execution_count": 16,
   "id": "10ffc7b0",
   "metadata": {},
   "outputs": [
    {
     "name": "stdout",
     "output_type": "stream",
     "text": [
      "   card_id  disp_id     type           issued\n",
      "0     1005     9285  classic  931107 00:00:00\n",
      "1      104      588  classic  940119 00:00:00\n",
      "2      747     4915  classic  940205 00:00:00\n",
      "3       70      439  classic  940208 00:00:00\n",
      "4      577     3687  classic  940215 00:00:00\n",
      "<class 'pandas.core.frame.DataFrame'>\n",
      "RangeIndex: 892 entries, 0 to 891\n",
      "Data columns (total 4 columns):\n",
      " #   Column   Non-Null Count  Dtype \n",
      "---  ------   --------------  ----- \n",
      " 0   card_id  892 non-null    int64 \n",
      " 1   disp_id  892 non-null    int64 \n",
      " 2   type     892 non-null    object\n",
      " 3   issued   892 non-null    object\n",
      "dtypes: int64(2), object(2)\n",
      "memory usage: 28.0+ KB\n",
      "None\n",
      "The number of missing columns are: 0\n"
     ]
    }
   ],
   "source": [
    "# Checking data\n",
    "print(card.head())\n",
    "# Checking structure\n",
    "print(card.info())\n",
    "# Checking missing columns\n",
    "print(\"The number of missing columns are: \" +  str(card.isna().sum().sum()))"
   ]
  },
  {
   "cell_type": "code",
   "execution_count": 17,
   "id": "fb0867d4",
   "metadata": {},
   "outputs": [
    {
     "name": "stdout",
     "output_type": "stream",
     "text": [
      "   A1           A2               A3       A4  A5  A6  A7  A8  A9    A10  \\\n",
      "0   1  Hl.m. Praha           Prague  1204953   0   0   0   1   1  100.0   \n",
      "1   2      Benesov  central Bohemia    88884  80  26   6   2   5   46.7   \n",
      "2   3       Beroun  central Bohemia    75232  55  26   4   1   5   41.7   \n",
      "3   4       Kladno  central Bohemia   149893  63  29   6   2   6   67.4   \n",
      "4   5        Kolin  central Bohemia    95616  65  30   4   1   6   51.4   \n",
      "\n",
      "     A11   A12   A13  A14    A15    A16  \n",
      "0  12541  0.29  0.43  167  85677  99107  \n",
      "1   8507  1.67  1.85  132   2159   2674  \n",
      "2   8980  1.95  2.21  111   2824   2813  \n",
      "3   9753  4.64  5.05  109   5244   5892  \n",
      "4   9307  3.85  4.43  118   2616   3040  \n",
      "<class 'pandas.core.frame.DataFrame'>\n",
      "RangeIndex: 77 entries, 0 to 76\n",
      "Data columns (total 16 columns):\n",
      " #   Column  Non-Null Count  Dtype  \n",
      "---  ------  --------------  -----  \n",
      " 0   A1      77 non-null     int64  \n",
      " 1   A2      77 non-null     object \n",
      " 2   A3      77 non-null     object \n",
      " 3   A4      77 non-null     int64  \n",
      " 4   A5      77 non-null     int64  \n",
      " 5   A6      77 non-null     int64  \n",
      " 6   A7      77 non-null     int64  \n",
      " 7   A8      77 non-null     int64  \n",
      " 8   A9      77 non-null     int64  \n",
      " 9   A10     77 non-null     float64\n",
      " 10  A11     77 non-null     int64  \n",
      " 11  A12     77 non-null     object \n",
      " 12  A13     77 non-null     float64\n",
      " 13  A14     77 non-null     int64  \n",
      " 14  A15     77 non-null     object \n",
      " 15  A16     77 non-null     int64  \n",
      "dtypes: float64(2), int64(10), object(4)\n",
      "memory usage: 9.8+ KB\n",
      "None\n",
      "The number of missing columns are: 0\n"
     ]
    }
   ],
   "source": [
    "# Checking data\n",
    "print(district.head())\n",
    "# Checking structure\n",
    "print(district.info())\n",
    "# Checking missing columns\n",
    "print(\"The number of missing columns are: \" +  str(district.isna().sum().sum()))"
   ]
  },
  {
   "cell_type": "code",
   "execution_count": 18,
   "id": "db5e6b6b",
   "metadata": {},
   "outputs": [
    {
     "name": "stdout",
     "output_type": "stream",
     "text": [
      "   disp_id  client_id  account_id       type\n",
      "0        1          1           1      OWNER\n",
      "1        2          2           2      OWNER\n",
      "2        3          3           2  DISPONENT\n",
      "3        4          4           3      OWNER\n",
      "4        5          5           3  DISPONENT\n",
      "<class 'pandas.core.frame.DataFrame'>\n",
      "RangeIndex: 5369 entries, 0 to 5368\n",
      "Data columns (total 4 columns):\n",
      " #   Column      Non-Null Count  Dtype \n",
      "---  ------      --------------  ----- \n",
      " 0   disp_id     5369 non-null   int64 \n",
      " 1   client_id   5369 non-null   int64 \n",
      " 2   account_id  5369 non-null   int64 \n",
      " 3   type        5369 non-null   object\n",
      "dtypes: int64(3), object(1)\n",
      "memory usage: 167.9+ KB\n",
      "None\n",
      "The number of missing columns are: 0\n"
     ]
    }
   ],
   "source": [
    "# Checking data\n",
    "print(disp.head())\n",
    "# Checking structure\n",
    "print(disp.info())\n",
    "# Checking missing columns\n",
    "print(\"The number of missing columns are: \" +  str(disp.isna().sum().sum()))"
   ]
  },
  {
   "cell_type": "code",
   "execution_count": 77,
   "id": "42cca778",
   "metadata": {},
   "outputs": [
    {
     "name": "stdout",
     "output_type": "stream",
     "text": [
      "   order_id  account_id bank_to  account_to  amount k_symbol\n",
      "0     29401           1      YZ    87144583  2452.0     SIPO\n",
      "1     29402           2      ST    89597016  3372.7     UVER\n",
      "2     29403           2      QR    13943797  7266.0     SIPO\n",
      "3     29404           3      WX    83084338  1135.0     SIPO\n",
      "4     29405           3      CD    24485939   327.0    Other\n",
      "<class 'pandas.core.frame.DataFrame'>\n",
      "RangeIndex: 6471 entries, 0 to 6470\n",
      "Data columns (total 6 columns):\n",
      " #   Column      Non-Null Count  Dtype  \n",
      "---  ------      --------------  -----  \n",
      " 0   order_id    6471 non-null   int64  \n",
      " 1   account_id  6471 non-null   int64  \n",
      " 2   bank_to     6471 non-null   object \n",
      " 3   account_to  6471 non-null   int64  \n",
      " 4   amount      6471 non-null   float64\n",
      " 5   k_symbol    6471 non-null   object \n",
      "dtypes: float64(1), int64(3), object(2)\n",
      "memory usage: 303.5+ KB\n",
      "None\n",
      "The number of missing columns are: 0\n",
      "   order_id  account_id bank_to  account_to  amount k_symbol\n",
      "0     29401           1      YZ    87144583  2452.0     SIPO\n",
      "1     29402           2      ST    89597016  3372.7     UVER\n",
      "2     29403           2      QR    13943797  7266.0     SIPO\n",
      "3     29404           3      WX    83084338  1135.0     SIPO\n",
      "4     29405           3      CD    24485939   327.0    Other\n"
     ]
    }
   ],
   "source": [
    "# Checking data\n",
    "print(order.head())\n",
    "# Checking structure\n",
    "print(order.info())\n",
    "# Checking missing columns\n",
    "print(\"The number of missing columns are: \" +  str(order.isna().sum().sum()))\n",
    "# Checking empty columns\n",
    "emptyrows = checkEmpty(order)\n",
    "for column in order.columns[1:]:\n",
    "    if order[column].dtype == object:\n",
    "        order.loc[emptyrows[column], column] = 'Other'\n",
    "\n",
    "print(order.head())"
   ]
  },
  {
   "cell_type": "code",
   "execution_count": null,
   "id": "1f78e514",
   "metadata": {},
   "outputs": [],
   "source": [
    "# Checking data\n",
    "print(trans.head())\n",
    "# Checking structure\n",
    "print(trans.info())\n",
    "# Checking missing columns\n",
    "print(\"The number of missing columns are: \" +  str(trans.isna().sum().sum()))\n",
    "# Checking empty columns\n",
    "print(\"The number of missing columns are: \" +  str(trans.empty))"
   ]
  },
  {
   "cell_type": "code",
   "execution_count": 29,
   "id": "34fb722a",
   "metadata": {},
   "outputs": [
    {
     "name": "stdout",
     "output_type": "stream",
     "text": [
      "   loan_id  account_id    date  amount  duration  payments status\n",
      "0     5314        1787  930705   96396        12    8033.0      B\n",
      "1     5316        1801  930711  165960        36    4610.0      A\n",
      "2     6863        9188  930728  127080        60    2118.0      A\n",
      "3     5325        1843  930803  105804        36    2939.0      A\n",
      "4     7240       11013  930906  274740        60    4579.0      A\n",
      "<class 'pandas.core.frame.DataFrame'>\n",
      "RangeIndex: 682 entries, 0 to 681\n",
      "Data columns (total 7 columns):\n",
      " #   Column      Non-Null Count  Dtype  \n",
      "---  ------      --------------  -----  \n",
      " 0   loan_id     682 non-null    int64  \n",
      " 1   account_id  682 non-null    int64  \n",
      " 2   date        682 non-null    int64  \n",
      " 3   amount      682 non-null    int64  \n",
      " 4   duration    682 non-null    int64  \n",
      " 5   payments    682 non-null    float64\n",
      " 6   status      682 non-null    object \n",
      "dtypes: float64(1), int64(5), object(1)\n",
      "memory usage: 37.4+ KB\n",
      "None\n",
      "The number of missing columns are: 0\n",
      "The number of missing columns are: False\n"
     ]
    }
   ],
   "source": [
    "# Checking data\n",
    "print(loan.head())\n",
    "# Checking structure\n",
    "print(loan.info())\n",
    "# Checking missing columns\n",
    "print(\"The number of missing columns are: \" +  str(loan.isna().sum().sum()))\n",
    "# Checking empty columns\n",
    "print(\"The number of missing columns are: \" +  str(loan.empty))"
   ]
  },
  {
   "cell_type": "code",
   "execution_count": null,
   "id": "82156774",
   "metadata": {},
   "outputs": [],
   "source": []
  }
 ],
 "metadata": {
  "kernelspec": {
   "display_name": "Python 3 (ipykernel)",
   "language": "python",
   "name": "python3"
  },
  "language_info": {
   "codemirror_mode": {
    "name": "ipython",
    "version": 3
   },
   "file_extension": ".py",
   "mimetype": "text/x-python",
   "name": "python",
   "nbconvert_exporter": "python",
   "pygments_lexer": "ipython3",
   "version": "3.8.8"
  }
 },
 "nbformat": 4,
 "nbformat_minor": 5
}
